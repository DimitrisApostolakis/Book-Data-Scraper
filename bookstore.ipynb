{
 "cells": [
  {
   "cell_type": "markdown",
   "metadata": {},
   "source": [
    "# Bookstore Data Analysis\n",
    "\n",
    "This is my first project combining **web scraping**, **data analysis with pandas**, and **visualization with matplotlib**.\n",
    "\n",
    "The goal is to explore stock availability across different book categories, understand distribution patterns, and visualize the data using various chart types.\n"
   ]
  },
  {
   "cell_type": "code",
   "execution_count": null,
   "metadata": {},
   "outputs": [
    {
     "ename": "",
     "evalue": "",
     "output_type": "error",
     "traceback": [
      "\u001b[1;31mRunning cells with 'Python 3.12.7' requires the ipykernel package.\n",
      "\u001b[1;31m<a href='command:jupyter.createPythonEnvAndSelectController'>Create a Python Environment</a> with the required packages.\n",
      "\u001b[1;31mOr install 'ipykernel' using the command: 'c:/Users/Home/AppData/Local/Programs/Python/Python312/python.exe -m pip install ipykernel -U --user --force-reinstall'"
     ]
    }
   ],
   "source": [
    "#TODO: FIND A CATEGORY FOR ADD A COMMENT CATEGORY WITH NLP FROM DESCRIPTION MAYBE\n",
    "\n",
    "import pandas as pd\n",
    "import matplotlib.pyplot as plt\n",
    "# from scipy.stats import skew\n",
    "\n",
    "df = pd.read_csv(\"bookshelf.csv\")\n",
    "\n",
    "df['Category'] = df['Category'].replace({\"Add a comment\": \"No Category\", \"Default\": \"No Category\"})\n",
    "print(df.info())\n",
    "print(f\"\\nThere are {df.isna().sum().sum()} cells empty.\")"
   ]
  },
  {
   "cell_type": "code",
   "execution_count": null,
   "metadata": {},
   "outputs": [],
   "source": [
    "avg_price = df['Price'].mean()\n",
    "max_price = df['Price'].max()\n",
    "min_price = df['Price'].min()\n",
    "most_common_price = df['Price'].mode().iloc[0]\n",
    "\n",
    "euro = \"\\N{euro sign}\"\n",
    "\n",
    "print(f\"There are {df[\"Stock\"].sum()} out of stock!\")\n",
    "print(f\"The average price of the books is {avg_price}{euro}. (Prices have been converted from GBP to EUR)\")\n",
    "print(f\"The maximum price of a book is {max_price}{euro} while the minimum is {min_price}{euro}.\")\n",
    "print(f\"The most common price of a book is {most_common_price}{euro}\")\n",
    "\n",
    "bins = [10, 20, 30, 40, 50, 60, 70, 80, 90]\n",
    "\n",
    "df['Price'].plot(kind=\"hist\", bins=bins, title=\"Distribution of the prices\", edgecolor=\"black\", xlabel=\"Prices\")\n",
    "# print(f\"Skew metric: {skew(df['Price'])}\")"
   ]
  },
  {
   "cell_type": "markdown",
   "metadata": {},
   "source": [
    "### **Question:** *How are the book prices distributed?*\n",
    "\n",
    "According to the histogram, the peak frequencies are in the 40–70€ range, with all three of those bins (40–50€, 50–60€, 60–70€) reaching close to 175–180 books each, even though the most common individual price is 26.3€. This indicates that the average of 41.67€ fits nicely with that distribution.\n",
    "\n",
    "The distribution of book prices is **approximately symmetric, with a very slight left skew (almost neutral)**. This matches the histogram, where most prices are spread fairly evenly between 20–70€ (skew < 0)"
   ]
  },
  {
   "cell_type": "code",
   "execution_count": null,
   "metadata": {},
   "outputs": [],
   "source": [
    "corr = df['Price'].corr(df['Rating'])\n",
    "print(f\"Correlation between Price and Rating: {corr}\")\n",
    "\n",
    "high_rated = df[(df['Rating'] >= 4) & (df['Rating'] <= 5)]\n",
    "low_rated = df[(df['Rating'] >= 1) & (df['Rating'] <= 2)]\n",
    "\n",
    "counter = [len(low_rated), len(high_rated)]\n",
    "labels = [\"Low-Rated (1-2)\", \"High-Rated (4-5)\"]\n",
    "\n",
    "fig, axs = plt.subplots(1, 2, figsize=(20, 5))\n",
    "df.plot(kind=\"scatter\", x=\"Price\", y=\"Rating\", title=\"Price vs Rating\", alpha=0.6, grid=True, ax=axs[0])\n",
    "axs[1].bar(labels, counter)\n",
    "axs[1].set_xlabel(\"Ratings\")\n",
    "axs[1].set_ylabel(\"Number of books\")\n",
    "axs[1].set_title(\"Ratings breakdown\")\n",
    "plt.tight_layout()"
   ]
  },
  {
   "cell_type": "markdown",
   "metadata": {},
   "source": [
    "### **Question:** *Does rating correlate with price?*\n",
    "\n",
    "In this dataset, how much a book costs doesn't really tell you anything about how well it's rated. A 70€ book could be rated 1.0, and a 15€ book could be rated 5.0 — there's no consistent trend.\n",
    "\n",
    "### **Question:** *Are there more high-rated (4-5 stars) or low-rated (1-2 stars) books?*\n",
    "\n",
    "According to the box plot, there are more low-rated books than high-rated.\n"
   ]
  },
  {
   "cell_type": "code",
   "execution_count": null,
   "metadata": {},
   "outputs": [],
   "source": [
    "most_common_category = df['Category'][df['Category'] != \"No Category\"].value_counts().idxmax()\n",
    "print(f\"The category with the most books is '{most_common_category}'. (Excluding books with no category)\")\n",
    "\n",
    "print(\"The average price per the 5 most expensive categories:\")\n",
    "avg_price_per_category = round(df['Price'].groupby(df['Category']).mean().sort_values(ascending=False).reset_index(),1)\n",
    "avg_price_per_category.columns = [\"Category\", \"Average Price\"]\n",
    "print(avg_price_per_category.head())\n",
    "\n",
    "print(\"\\nThe average rating of the 5 most high-rated categories:\")\n",
    "avg_rating_per_category = round(df['Rating'].groupby(df['Category']).mean().sort_values(ascending=False).reset_index(),1)\n",
    "avg_price_per_category.columns = [\"Category\", \"Average Rating\"]\n",
    "print(avg_rating_per_category.head())"
   ]
  },
  {
   "cell_type": "code",
   "execution_count": null,
   "metadata": {},
   "outputs": [],
   "source": [
    "plt.figure(figsize=(20, 10))\n",
    "plt.bar(df['Category'].value_counts().index, df['Category'].value_counts().values)\n",
    "plt.xticks(rotation=90)\n",
    "plt.tight_layout()\n",
    "plt.xlabel('Category')\n",
    "plt.ylabel('Number of Books')\n",
    "plt.title('Book Counts by Category')\n",
    "plt.tight_layout()"
   ]
  },
  {
   "cell_type": "code",
   "execution_count": null,
   "metadata": {},
   "outputs": [],
   "source": [
    "grouped = df[df['Category'] != 'No Category'].groupby('Category')[['Price', 'Rating']].mean().sort_values('Price', ascending=False)\n",
    "\n",
    "plt.figure(figsize=(12, 5))\n",
    "plt.bar(grouped.index, grouped['Price'], color=\"red\")\n",
    "plt.xticks(rotation=90)\n",
    "plt.title(\"Average Price by Category\")\n",
    "plt.ylabel(f\"Average Price ({euro})\")\n",
    "plt.tight_layout()\n",
    "\n",
    "plt.figure(figsize=(12, 5))\n",
    "plt.bar(grouped.index, grouped['Rating'], color=\"cyan\")\n",
    "plt.xticks(rotation=90)\n",
    "plt.title(\"Average Rating by Category\")\n",
    "plt.ylabel(\"Average Rating\")\n",
    "plt.tight_layout()"
   ]
  },
  {
   "cell_type": "code",
   "execution_count": null,
   "metadata": {},
   "outputs": [],
   "source": [
    "print(f\"There are {(df['Stock'] == 0).sum()} books out of stock.\")\n",
    "\n",
    "grouped = df['Stock'].groupby(df['Category']).sum().sort_values()\n",
    "\n",
    "plt.figure(figsize=(12, 10))\n",
    "plt.barh(grouped.index, grouped.values, color=\"skyblue\")\n",
    "\n",
    "plt.title(\"Total Stock by Category\")\n",
    "plt.xlabel(\"Total Stock\")\n",
    "plt.ylabel(\"Category\")\n",
    "plt.tight_layout()\n",
    "plt.show()"
   ]
  },
  {
   "cell_type": "markdown",
   "metadata": {},
   "source": [
    "Finally, this horizontal bar chart presents the **total available stock** for each book category. Low or zero stock in the suspense category may indicate high demand and frequent purchases, as evidenced by the **Novels**, **Erotica** & **Adult Fiction** categories having both the lowest stock and the best average rating."
   ]
  }
 ],
 "metadata": {
  "kernelspec": {
   "display_name": "Python 3",
   "language": "python",
   "name": "python3"
  },
  "language_info": {
   "codemirror_mode": {
    "name": "ipython",
    "version": 3
   },
   "file_extension": ".py",
   "mimetype": "text/x-python",
   "name": "python",
   "nbconvert_exporter": "python",
   "pygments_lexer": "ipython3",
   "version": "3.12.7"
  }
 },
 "nbformat": 4,
 "nbformat_minor": 2
}
